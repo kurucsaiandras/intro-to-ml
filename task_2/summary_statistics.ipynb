{
 "cells": [
  {
   "cell_type": "code",
   "execution_count": 2,
   "id": "initial_id",
   "metadata": {
    "collapsed": true,
    "ExecuteTime": {
     "end_time": "2024-02-26T09:03:50.382662691Z",
     "start_time": "2024-02-26T09:03:49.886807309Z"
    }
   },
   "outputs": [
    {
     "name": "stderr",
     "output_type": "stream",
     "text": [
      "/tmp/ipykernel_7228/1220005565.py:3: DeprecationWarning: \n",
      "Pyarrow will become a required dependency of pandas in the next major release of pandas (pandas 3.0),\n",
      "(to allow more performant data types, such as the Arrow string type, and better interoperability with other libraries)\n",
      "but was not found to be installed on your system.\n",
      "If this would cause problems for you,\n",
      "please provide us feedback at https://github.com/pandas-dev/pandas/issues/54466\n",
      "        \n",
      "  import pandas as pd\n"
     ]
    }
   ],
   "source": [
    "import numpy as np\n",
    "import matplotlib.pyplot as plt\n",
    "import pandas as pd\n",
    "from utils.read_dataset import read\n"
   ]
  },
  {
   "cell_type": "code",
   "outputs": [
    {
     "data": {
      "text/plain": "        Country          Region  Year  Infant_deaths  Under_five_deaths  \\\n0       Turkiye     Middle East  2015           11.1               13.0   \n1         Spain  European Union  2015            2.7                3.3   \n2         India            Asia  2007           51.5               67.9   \n3        Guyana   South America  2006           32.8               40.5   \n4        Israel     Middle East  2012            3.4                4.3   \n...         ...             ...   ...            ...                ...   \n2859      Niger          Africa  2000           97.0              224.9   \n2860   Mongolia            Asia  2009           23.9               28.6   \n2861  Sri Lanka            Asia  2004           17.7               28.9   \n2862  Lithuania  European Union  2002            7.9                9.9   \n2863    Iceland  Rest of Europe  2011            2.1                2.6   \n\n      Adult_mortality  Alcohol_consumption  Hepatitis_B  Measles   BMI  ...  \\\n0            105.8240                1.320           97       65  27.8  ...   \n1             57.9025               10.350           97       94  26.0  ...   \n2            201.0765                1.570           60       35  21.2  ...   \n3            222.1965                5.680           93       74  25.3  ...   \n4             57.9510                2.890           97       89  27.0  ...   \n...               ...                  ...          ...      ...   ...  ...   \n2859         291.8240                0.092           72       64  20.8  ...   \n2860         235.2330                6.560           97       97  25.3  ...   \n2861         134.8950                1.560           62       95  21.9  ...   \n2862         204.0120               11.000           94       95  26.1  ...   \n2863          50.5745                6.840           88       90  26.1  ...   \n\n      Diphtheria  Incidents_HIV  GDP_per_capita  Population_mln  \\\n0             97           0.08           11006           78.53   \n1             97           0.09           25742           46.44   \n2             64           0.13            1076         1183.21   \n3             93           0.79            4146            0.75   \n4             94           0.08           33995            7.91   \n...          ...            ...             ...             ...   \n2859          34           0.49             399           11.33   \n2860          95           0.02            2515            2.67   \n2861          97           0.02            2130           19.39   \n2862          95           0.05            7424            3.44   \n2863          95           0.05           48934            0.32   \n\n      Thinness_ten_nineteen_years  Thinness_five_nine_years  Schooling  \\\n0                             4.9                       4.8        7.8   \n1                             0.6                       0.5        9.7   \n2                            27.1                      28.0        5.0   \n3                             5.7                       5.5        7.9   \n4                             1.2                       1.1       12.8   \n...                           ...                       ...        ...   \n2859                         12.8                      12.9        1.1   \n2860                          2.2                       2.3        9.1   \n2861                         15.4                      15.5       10.3   \n2862                          3.3                       3.3       11.1   \n2863                          0.9                       0.9       11.0   \n\n      Economy_status_Developed  Economy_status_Developing  Life_expectancy  \n0                            0                          1             76.5  \n1                            1                          0             82.8  \n2                            0                          1             65.4  \n3                            0                          1             67.0  \n4                            1                          0             81.7  \n...                        ...                        ...              ...  \n2859                         0                          1             49.9  \n2860                         0                          1             66.9  \n2861                         0                          1             74.3  \n2862                         1                          0             71.8  \n2863                         1                          0             82.4  \n\n[2864 rows x 21 columns]",
      "text/html": "<div>\n<style scoped>\n    .dataframe tbody tr th:only-of-type {\n        vertical-align: middle;\n    }\n\n    .dataframe tbody tr th {\n        vertical-align: top;\n    }\n\n    .dataframe thead th {\n        text-align: right;\n    }\n</style>\n<table border=\"1\" class=\"dataframe\">\n  <thead>\n    <tr style=\"text-align: right;\">\n      <th></th>\n      <th>Country</th>\n      <th>Region</th>\n      <th>Year</th>\n      <th>Infant_deaths</th>\n      <th>Under_five_deaths</th>\n      <th>Adult_mortality</th>\n      <th>Alcohol_consumption</th>\n      <th>Hepatitis_B</th>\n      <th>Measles</th>\n      <th>BMI</th>\n      <th>...</th>\n      <th>Diphtheria</th>\n      <th>Incidents_HIV</th>\n      <th>GDP_per_capita</th>\n      <th>Population_mln</th>\n      <th>Thinness_ten_nineteen_years</th>\n      <th>Thinness_five_nine_years</th>\n      <th>Schooling</th>\n      <th>Economy_status_Developed</th>\n      <th>Economy_status_Developing</th>\n      <th>Life_expectancy</th>\n    </tr>\n  </thead>\n  <tbody>\n    <tr>\n      <th>0</th>\n      <td>Turkiye</td>\n      <td>Middle East</td>\n      <td>2015</td>\n      <td>11.1</td>\n      <td>13.0</td>\n      <td>105.8240</td>\n      <td>1.320</td>\n      <td>97</td>\n      <td>65</td>\n      <td>27.8</td>\n      <td>...</td>\n      <td>97</td>\n      <td>0.08</td>\n      <td>11006</td>\n      <td>78.53</td>\n      <td>4.9</td>\n      <td>4.8</td>\n      <td>7.8</td>\n      <td>0</td>\n      <td>1</td>\n      <td>76.5</td>\n    </tr>\n    <tr>\n      <th>1</th>\n      <td>Spain</td>\n      <td>European Union</td>\n      <td>2015</td>\n      <td>2.7</td>\n      <td>3.3</td>\n      <td>57.9025</td>\n      <td>10.350</td>\n      <td>97</td>\n      <td>94</td>\n      <td>26.0</td>\n      <td>...</td>\n      <td>97</td>\n      <td>0.09</td>\n      <td>25742</td>\n      <td>46.44</td>\n      <td>0.6</td>\n      <td>0.5</td>\n      <td>9.7</td>\n      <td>1</td>\n      <td>0</td>\n      <td>82.8</td>\n    </tr>\n    <tr>\n      <th>2</th>\n      <td>India</td>\n      <td>Asia</td>\n      <td>2007</td>\n      <td>51.5</td>\n      <td>67.9</td>\n      <td>201.0765</td>\n      <td>1.570</td>\n      <td>60</td>\n      <td>35</td>\n      <td>21.2</td>\n      <td>...</td>\n      <td>64</td>\n      <td>0.13</td>\n      <td>1076</td>\n      <td>1183.21</td>\n      <td>27.1</td>\n      <td>28.0</td>\n      <td>5.0</td>\n      <td>0</td>\n      <td>1</td>\n      <td>65.4</td>\n    </tr>\n    <tr>\n      <th>3</th>\n      <td>Guyana</td>\n      <td>South America</td>\n      <td>2006</td>\n      <td>32.8</td>\n      <td>40.5</td>\n      <td>222.1965</td>\n      <td>5.680</td>\n      <td>93</td>\n      <td>74</td>\n      <td>25.3</td>\n      <td>...</td>\n      <td>93</td>\n      <td>0.79</td>\n      <td>4146</td>\n      <td>0.75</td>\n      <td>5.7</td>\n      <td>5.5</td>\n      <td>7.9</td>\n      <td>0</td>\n      <td>1</td>\n      <td>67.0</td>\n    </tr>\n    <tr>\n      <th>4</th>\n      <td>Israel</td>\n      <td>Middle East</td>\n      <td>2012</td>\n      <td>3.4</td>\n      <td>4.3</td>\n      <td>57.9510</td>\n      <td>2.890</td>\n      <td>97</td>\n      <td>89</td>\n      <td>27.0</td>\n      <td>...</td>\n      <td>94</td>\n      <td>0.08</td>\n      <td>33995</td>\n      <td>7.91</td>\n      <td>1.2</td>\n      <td>1.1</td>\n      <td>12.8</td>\n      <td>1</td>\n      <td>0</td>\n      <td>81.7</td>\n    </tr>\n    <tr>\n      <th>...</th>\n      <td>...</td>\n      <td>...</td>\n      <td>...</td>\n      <td>...</td>\n      <td>...</td>\n      <td>...</td>\n      <td>...</td>\n      <td>...</td>\n      <td>...</td>\n      <td>...</td>\n      <td>...</td>\n      <td>...</td>\n      <td>...</td>\n      <td>...</td>\n      <td>...</td>\n      <td>...</td>\n      <td>...</td>\n      <td>...</td>\n      <td>...</td>\n      <td>...</td>\n      <td>...</td>\n    </tr>\n    <tr>\n      <th>2859</th>\n      <td>Niger</td>\n      <td>Africa</td>\n      <td>2000</td>\n      <td>97.0</td>\n      <td>224.9</td>\n      <td>291.8240</td>\n      <td>0.092</td>\n      <td>72</td>\n      <td>64</td>\n      <td>20.8</td>\n      <td>...</td>\n      <td>34</td>\n      <td>0.49</td>\n      <td>399</td>\n      <td>11.33</td>\n      <td>12.8</td>\n      <td>12.9</td>\n      <td>1.1</td>\n      <td>0</td>\n      <td>1</td>\n      <td>49.9</td>\n    </tr>\n    <tr>\n      <th>2860</th>\n      <td>Mongolia</td>\n      <td>Asia</td>\n      <td>2009</td>\n      <td>23.9</td>\n      <td>28.6</td>\n      <td>235.2330</td>\n      <td>6.560</td>\n      <td>97</td>\n      <td>97</td>\n      <td>25.3</td>\n      <td>...</td>\n      <td>95</td>\n      <td>0.02</td>\n      <td>2515</td>\n      <td>2.67</td>\n      <td>2.2</td>\n      <td>2.3</td>\n      <td>9.1</td>\n      <td>0</td>\n      <td>1</td>\n      <td>66.9</td>\n    </tr>\n    <tr>\n      <th>2861</th>\n      <td>Sri Lanka</td>\n      <td>Asia</td>\n      <td>2004</td>\n      <td>17.7</td>\n      <td>28.9</td>\n      <td>134.8950</td>\n      <td>1.560</td>\n      <td>62</td>\n      <td>95</td>\n      <td>21.9</td>\n      <td>...</td>\n      <td>97</td>\n      <td>0.02</td>\n      <td>2130</td>\n      <td>19.39</td>\n      <td>15.4</td>\n      <td>15.5</td>\n      <td>10.3</td>\n      <td>0</td>\n      <td>1</td>\n      <td>74.3</td>\n    </tr>\n    <tr>\n      <th>2862</th>\n      <td>Lithuania</td>\n      <td>European Union</td>\n      <td>2002</td>\n      <td>7.9</td>\n      <td>9.9</td>\n      <td>204.0120</td>\n      <td>11.000</td>\n      <td>94</td>\n      <td>95</td>\n      <td>26.1</td>\n      <td>...</td>\n      <td>95</td>\n      <td>0.05</td>\n      <td>7424</td>\n      <td>3.44</td>\n      <td>3.3</td>\n      <td>3.3</td>\n      <td>11.1</td>\n      <td>1</td>\n      <td>0</td>\n      <td>71.8</td>\n    </tr>\n    <tr>\n      <th>2863</th>\n      <td>Iceland</td>\n      <td>Rest of Europe</td>\n      <td>2011</td>\n      <td>2.1</td>\n      <td>2.6</td>\n      <td>50.5745</td>\n      <td>6.840</td>\n      <td>88</td>\n      <td>90</td>\n      <td>26.1</td>\n      <td>...</td>\n      <td>95</td>\n      <td>0.05</td>\n      <td>48934</td>\n      <td>0.32</td>\n      <td>0.9</td>\n      <td>0.9</td>\n      <td>11.0</td>\n      <td>1</td>\n      <td>0</td>\n      <td>82.4</td>\n    </tr>\n  </tbody>\n</table>\n<p>2864 rows × 21 columns</p>\n</div>"
     },
     "execution_count": 4,
     "metadata": {},
     "output_type": "execute_result"
    }
   ],
   "source": [
    "dataset = pd.read_csv(\"../Life-Expectancy-Data.csv\")\n",
    "\n",
    "raw_data = dataset.values\n",
    "\n",
    "cols = range(0, 21)\n",
    "X = raw_data[:, cols]\n",
    "attributeNames = np.asarray(dataset.columns[cols])\n",
    "dataset"
   ],
   "metadata": {
    "collapsed": false,
    "ExecuteTime": {
     "end_time": "2024-02-26T09:03:55.479795341Z",
     "start_time": "2024-02-26T09:03:55.445741614Z"
    }
   },
   "id": "2ffe39f814d253ba",
   "execution_count": 4
  },
  {
   "cell_type": "code",
   "outputs": [
    {
     "name": "stdout",
     "output_type": "stream",
     "text": [
      "Attribute:Year\n",
      "Z-score 1.4210854715202004e-14\n",
      "Standard Deviation 4.610577218127591\n",
      "Attribute:Infant_deaths\n",
      "Z-score 2.5579538487363607e-13\n",
      "Standard Deviation 27.538116569681545\n",
      "Attribute:Under_five_deaths\n",
      "Z-score -2.1316282072803006e-13\n",
      "Standard Deviation 44.569973500451695\n",
      "Attribute:Adult_mortality\n",
      "Z-score 1.1013412404281553e-13\n",
      "Standard Deviation 114.91028117106109\n",
      "Attribute:Alcohol_consumption\n",
      "Z-score 1.0658141036401503e-14\n",
      "Standard Deviation 3.981948599597707\n",
      "Attribute:Hepatitis_B\n",
      "Z-score 3.588240815588506e-13\n",
      "Standard Deviation 15.995511104857902\n",
      "Attribute:Measles\n",
      "Z-score -4.014566457044566e-13\n",
      "Standard Deviation 18.659692687455433\n",
      "Attribute:BMI\n",
      "Z-score -2.547295707699959e-12\n",
      "Standard Deviation 2.193904893064857\n",
      "Attribute:Polio\n",
      "Z-score 5.151434834260726e-13\n",
      "Standard Deviation 15.080364525423217\n",
      "Attribute:Diphtheria\n",
      "Z-score -3.055333763768431e-13\n",
      "Standard Deviation 15.53422480684869\n",
      "Attribute:Incidents_HIV\n",
      "Z-score 1.5987211554602254e-13\n",
      "Standard Deviation 2.3813894765356474\n",
      "Attribute:GDP_per_capita\n",
      "Z-score 1.2434497875801753e-13\n",
      "Standard Deviation 16934.788930970502\n",
      "Attribute:Population_mln\n",
      "Z-score -7.105427357601002e-15\n",
      "Standard Deviation 136.48586695701923\n",
      "Attribute:Thinness_ten_nineteen_years\n",
      "Z-score 4.298783551348606e-13\n",
      "Standard Deviation 4.438233700443418\n",
      "Attribute:Thinness_five_nine_years\n",
      "Z-score 6.750155989720952e-14\n",
      "Standard Deviation 4.52521672600251\n",
      "Attribute:Schooling\n",
      "Z-score -3.232969447708456e-13\n",
      "Standard Deviation 3.171555639406584\n",
      "Attribute:Economy_status_Developed\n",
      "Z-score -1.6342482922482304e-13\n",
      "Standard Deviation 0.4050119487490214\n",
      "Attribute:Economy_status_Developing\n",
      "Z-score -4.192202140984591e-13\n",
      "Standard Deviation 0.4050119487490214\n",
      "Attribute:Life_expectancy\n",
      "Z-score 1.708855279503041e-12\n",
      "Standard Deviation 9.405607944521499\n"
     ]
    }
   ],
   "source": [
    "for name in attributeNames:\n",
    "    if dataset[name].dtype == \"object\":\n",
    "        continue\n",
    "    npData = np.array(dataset[name])\n",
    "    z = ((npData-npData.mean())/npData.std())\n",
    "    print(\"Attribute:\" + name)\n",
    "    print(\"Z-score\", float(z))\n",
    "    #print(\"Mean: \", dataset[name].mean())\n",
    "    #print(\"Mode\",dataset[name].mode().values[0])\n",
    "    #print(\"variance: \", dataset[name].var())\n",
    "    print(\"Standard Deviation\",dataset[name].std())\n",
    "    #print(\"Range: [\", min(dataset[name]), \", \", max(dataset[name]),\"]\")\n",
    "    "
   ],
   "metadata": {
    "collapsed": false,
    "ExecuteTime": {
     "end_time": "2024-02-26T09:10:47.677290298Z",
     "start_time": "2024-02-26T09:10:47.629557555Z"
    }
   },
   "id": "d5003964c748ead2",
   "execution_count": 12
  },
  {
   "cell_type": "code",
   "outputs": [],
   "source": [],
   "metadata": {
    "collapsed": false,
    "ExecuteTime": {
     "start_time": "2024-02-26T09:03:50.486020036Z"
    }
   },
   "id": "d46aedfcfa6ace81"
  }
 ],
 "metadata": {
  "kernelspec": {
   "display_name": "Python 3",
   "language": "python",
   "name": "python3"
  },
  "language_info": {
   "codemirror_mode": {
    "name": "ipython",
    "version": 2
   },
   "file_extension": ".py",
   "mimetype": "text/x-python",
   "name": "python",
   "nbconvert_exporter": "python",
   "pygments_lexer": "ipython2",
   "version": "2.7.6"
  }
 },
 "nbformat": 4,
 "nbformat_minor": 5
}
