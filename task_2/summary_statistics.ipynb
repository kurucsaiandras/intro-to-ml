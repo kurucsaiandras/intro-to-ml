{
 "cells": [
  {
   "cell_type": "code",
   "execution_count": 5,
   "id": "initial_id",
   "metadata": {
    "collapsed": true,
    "ExecuteTime": {
     "end_time": "2024-02-23T10:17:20.597774757Z",
     "start_time": "2024-02-23T10:17:20.593359324Z"
    }
   },
   "outputs": [],
   "source": [
    "import numpy as np\n",
    "import matplotlib.pyplot as plt\n",
    "import pandas as pd\n",
    "from utils.read_dataset import read\n"
   ]
  },
  {
   "cell_type": "code",
   "outputs": [
    {
     "data": {
      "text/plain": "          Country  Year      Status  Life expectancy   Adult Mortality  \\\n0     Afghanistan  2015  Developing              65.0            263.0   \n1     Afghanistan  2014  Developing              59.9            271.0   \n2     Afghanistan  2013  Developing              59.9            268.0   \n3     Afghanistan  2012  Developing              59.5            272.0   \n4     Afghanistan  2011  Developing              59.2            275.0   \n...           ...   ...         ...               ...              ...   \n2933     Zimbabwe  2004  Developing              44.3            723.0   \n2934     Zimbabwe  2003  Developing              44.5            715.0   \n2935     Zimbabwe  2002  Developing              44.8             73.0   \n2936     Zimbabwe  2001  Developing              45.3            686.0   \n2937     Zimbabwe  2000  Developing              46.0            665.0   \n\n      infant deaths  Alcohol  percentage expenditure  Hepatitis B  Measles   \\\n0                62     0.01               71.279624         65.0      1154   \n1                64     0.01               73.523582         62.0       492   \n2                66     0.01               73.219243         64.0       430   \n3                69     0.01               78.184215         67.0      2787   \n4                71     0.01                7.097109         68.0      3013   \n...             ...      ...                     ...          ...       ...   \n2933             27     4.36                0.000000         68.0        31   \n2934             26     4.06                0.000000          7.0       998   \n2935             25     4.43                0.000000         73.0       304   \n2936             25     1.72                0.000000         76.0       529   \n2937             24     1.68                0.000000         79.0      1483   \n\n      ...  Polio  Total expenditure  Diphtheria    HIV/AIDS         GDP  \\\n0     ...    6.0               8.16         65.0        0.1  584.259210   \n1     ...   58.0               8.18         62.0        0.1  612.696514   \n2     ...   62.0               8.13         64.0        0.1  631.744976   \n3     ...   67.0               8.52         67.0        0.1  669.959000   \n4     ...   68.0               7.87         68.0        0.1   63.537231   \n...   ...    ...                ...          ...        ...         ...   \n2933  ...   67.0               7.13         65.0       33.6  454.366654   \n2934  ...    7.0               6.52         68.0       36.7  453.351155   \n2935  ...   73.0               6.53         71.0       39.8   57.348340   \n2936  ...   76.0               6.16         75.0       42.1  548.587312   \n2937  ...   78.0               7.10         78.0       43.5  547.358878   \n\n      Population   thinness  1-19 years   thinness 5-9 years  \\\n0     33736494.0                   17.2                 17.3   \n1       327582.0                   17.5                 17.5   \n2     31731688.0                   17.7                 17.7   \n3      3696958.0                   17.9                 18.0   \n4      2978599.0                   18.2                 18.2   \n...          ...                    ...                  ...   \n2933  12777511.0                    9.4                  9.4   \n2934  12633897.0                    9.8                  9.9   \n2935    125525.0                    1.2                  1.3   \n2936  12366165.0                    1.6                  1.7   \n2937  12222251.0                   11.0                 11.2   \n\n      Income composition of resources  Schooling  \n0                               0.479       10.1  \n1                               0.476       10.0  \n2                               0.470        9.9  \n3                               0.463        9.8  \n4                               0.454        9.5  \n...                               ...        ...  \n2933                            0.407        9.2  \n2934                            0.418        9.5  \n2935                            0.427       10.0  \n2936                            0.427        9.8  \n2937                            0.434        9.8  \n\n[2938 rows x 22 columns]",
      "text/html": "<div>\n<style scoped>\n    .dataframe tbody tr th:only-of-type {\n        vertical-align: middle;\n    }\n\n    .dataframe tbody tr th {\n        vertical-align: top;\n    }\n\n    .dataframe thead th {\n        text-align: right;\n    }\n</style>\n<table border=\"1\" class=\"dataframe\">\n  <thead>\n    <tr style=\"text-align: right;\">\n      <th></th>\n      <th>Country</th>\n      <th>Year</th>\n      <th>Status</th>\n      <th>Life expectancy</th>\n      <th>Adult Mortality</th>\n      <th>infant deaths</th>\n      <th>Alcohol</th>\n      <th>percentage expenditure</th>\n      <th>Hepatitis B</th>\n      <th>Measles</th>\n      <th>...</th>\n      <th>Polio</th>\n      <th>Total expenditure</th>\n      <th>Diphtheria</th>\n      <th>HIV/AIDS</th>\n      <th>GDP</th>\n      <th>Population</th>\n      <th>thinness  1-19 years</th>\n      <th>thinness 5-9 years</th>\n      <th>Income composition of resources</th>\n      <th>Schooling</th>\n    </tr>\n  </thead>\n  <tbody>\n    <tr>\n      <th>0</th>\n      <td>Afghanistan</td>\n      <td>2015</td>\n      <td>Developing</td>\n      <td>65.0</td>\n      <td>263.0</td>\n      <td>62</td>\n      <td>0.01</td>\n      <td>71.279624</td>\n      <td>65.0</td>\n      <td>1154</td>\n      <td>...</td>\n      <td>6.0</td>\n      <td>8.16</td>\n      <td>65.0</td>\n      <td>0.1</td>\n      <td>584.259210</td>\n      <td>33736494.0</td>\n      <td>17.2</td>\n      <td>17.3</td>\n      <td>0.479</td>\n      <td>10.1</td>\n    </tr>\n    <tr>\n      <th>1</th>\n      <td>Afghanistan</td>\n      <td>2014</td>\n      <td>Developing</td>\n      <td>59.9</td>\n      <td>271.0</td>\n      <td>64</td>\n      <td>0.01</td>\n      <td>73.523582</td>\n      <td>62.0</td>\n      <td>492</td>\n      <td>...</td>\n      <td>58.0</td>\n      <td>8.18</td>\n      <td>62.0</td>\n      <td>0.1</td>\n      <td>612.696514</td>\n      <td>327582.0</td>\n      <td>17.5</td>\n      <td>17.5</td>\n      <td>0.476</td>\n      <td>10.0</td>\n    </tr>\n    <tr>\n      <th>2</th>\n      <td>Afghanistan</td>\n      <td>2013</td>\n      <td>Developing</td>\n      <td>59.9</td>\n      <td>268.0</td>\n      <td>66</td>\n      <td>0.01</td>\n      <td>73.219243</td>\n      <td>64.0</td>\n      <td>430</td>\n      <td>...</td>\n      <td>62.0</td>\n      <td>8.13</td>\n      <td>64.0</td>\n      <td>0.1</td>\n      <td>631.744976</td>\n      <td>31731688.0</td>\n      <td>17.7</td>\n      <td>17.7</td>\n      <td>0.470</td>\n      <td>9.9</td>\n    </tr>\n    <tr>\n      <th>3</th>\n      <td>Afghanistan</td>\n      <td>2012</td>\n      <td>Developing</td>\n      <td>59.5</td>\n      <td>272.0</td>\n      <td>69</td>\n      <td>0.01</td>\n      <td>78.184215</td>\n      <td>67.0</td>\n      <td>2787</td>\n      <td>...</td>\n      <td>67.0</td>\n      <td>8.52</td>\n      <td>67.0</td>\n      <td>0.1</td>\n      <td>669.959000</td>\n      <td>3696958.0</td>\n      <td>17.9</td>\n      <td>18.0</td>\n      <td>0.463</td>\n      <td>9.8</td>\n    </tr>\n    <tr>\n      <th>4</th>\n      <td>Afghanistan</td>\n      <td>2011</td>\n      <td>Developing</td>\n      <td>59.2</td>\n      <td>275.0</td>\n      <td>71</td>\n      <td>0.01</td>\n      <td>7.097109</td>\n      <td>68.0</td>\n      <td>3013</td>\n      <td>...</td>\n      <td>68.0</td>\n      <td>7.87</td>\n      <td>68.0</td>\n      <td>0.1</td>\n      <td>63.537231</td>\n      <td>2978599.0</td>\n      <td>18.2</td>\n      <td>18.2</td>\n      <td>0.454</td>\n      <td>9.5</td>\n    </tr>\n    <tr>\n      <th>...</th>\n      <td>...</td>\n      <td>...</td>\n      <td>...</td>\n      <td>...</td>\n      <td>...</td>\n      <td>...</td>\n      <td>...</td>\n      <td>...</td>\n      <td>...</td>\n      <td>...</td>\n      <td>...</td>\n      <td>...</td>\n      <td>...</td>\n      <td>...</td>\n      <td>...</td>\n      <td>...</td>\n      <td>...</td>\n      <td>...</td>\n      <td>...</td>\n      <td>...</td>\n      <td>...</td>\n    </tr>\n    <tr>\n      <th>2933</th>\n      <td>Zimbabwe</td>\n      <td>2004</td>\n      <td>Developing</td>\n      <td>44.3</td>\n      <td>723.0</td>\n      <td>27</td>\n      <td>4.36</td>\n      <td>0.000000</td>\n      <td>68.0</td>\n      <td>31</td>\n      <td>...</td>\n      <td>67.0</td>\n      <td>7.13</td>\n      <td>65.0</td>\n      <td>33.6</td>\n      <td>454.366654</td>\n      <td>12777511.0</td>\n      <td>9.4</td>\n      <td>9.4</td>\n      <td>0.407</td>\n      <td>9.2</td>\n    </tr>\n    <tr>\n      <th>2934</th>\n      <td>Zimbabwe</td>\n      <td>2003</td>\n      <td>Developing</td>\n      <td>44.5</td>\n      <td>715.0</td>\n      <td>26</td>\n      <td>4.06</td>\n      <td>0.000000</td>\n      <td>7.0</td>\n      <td>998</td>\n      <td>...</td>\n      <td>7.0</td>\n      <td>6.52</td>\n      <td>68.0</td>\n      <td>36.7</td>\n      <td>453.351155</td>\n      <td>12633897.0</td>\n      <td>9.8</td>\n      <td>9.9</td>\n      <td>0.418</td>\n      <td>9.5</td>\n    </tr>\n    <tr>\n      <th>2935</th>\n      <td>Zimbabwe</td>\n      <td>2002</td>\n      <td>Developing</td>\n      <td>44.8</td>\n      <td>73.0</td>\n      <td>25</td>\n      <td>4.43</td>\n      <td>0.000000</td>\n      <td>73.0</td>\n      <td>304</td>\n      <td>...</td>\n      <td>73.0</td>\n      <td>6.53</td>\n      <td>71.0</td>\n      <td>39.8</td>\n      <td>57.348340</td>\n      <td>125525.0</td>\n      <td>1.2</td>\n      <td>1.3</td>\n      <td>0.427</td>\n      <td>10.0</td>\n    </tr>\n    <tr>\n      <th>2936</th>\n      <td>Zimbabwe</td>\n      <td>2001</td>\n      <td>Developing</td>\n      <td>45.3</td>\n      <td>686.0</td>\n      <td>25</td>\n      <td>1.72</td>\n      <td>0.000000</td>\n      <td>76.0</td>\n      <td>529</td>\n      <td>...</td>\n      <td>76.0</td>\n      <td>6.16</td>\n      <td>75.0</td>\n      <td>42.1</td>\n      <td>548.587312</td>\n      <td>12366165.0</td>\n      <td>1.6</td>\n      <td>1.7</td>\n      <td>0.427</td>\n      <td>9.8</td>\n    </tr>\n    <tr>\n      <th>2937</th>\n      <td>Zimbabwe</td>\n      <td>2000</td>\n      <td>Developing</td>\n      <td>46.0</td>\n      <td>665.0</td>\n      <td>24</td>\n      <td>1.68</td>\n      <td>0.000000</td>\n      <td>79.0</td>\n      <td>1483</td>\n      <td>...</td>\n      <td>78.0</td>\n      <td>7.10</td>\n      <td>78.0</td>\n      <td>43.5</td>\n      <td>547.358878</td>\n      <td>12222251.0</td>\n      <td>11.0</td>\n      <td>11.2</td>\n      <td>0.434</td>\n      <td>9.8</td>\n    </tr>\n  </tbody>\n</table>\n<p>2938 rows × 22 columns</p>\n</div>"
     },
     "execution_count": 24,
     "metadata": {},
     "output_type": "execute_result"
    }
   ],
   "source": [
    "dataset = pd.read_csv(\"../Life_Expectancy_Data.csv\")\n",
    "\n",
    "raw_data = dataset.values\n",
    "\n",
    "cols = range(0, 22)\n",
    "X = raw_data[:, cols]\n",
    "attributeNames = np.asarray(dataset.columns[cols])\n",
    "dataset"
   ],
   "metadata": {
    "collapsed": false,
    "ExecuteTime": {
     "end_time": "2024-02-23T10:48:54.450636613Z",
     "start_time": "2024-02-23T10:48:54.425238450Z"
    }
   },
   "id": "2ffe39f814d253ba",
   "execution_count": 24
  },
  {
   "cell_type": "code",
   "outputs": [
    {
     "name": "stdout",
     "output_type": "stream",
     "text": [
      "Attribute:Year\n",
      "Mean:  2007.5187202178352\n",
      "variance:  21.28752822200172\n",
      "Range: [ 2000 ,  2015 ]\n",
      "Attribute:Life expectancy \n",
      "Mean:  69.22493169398908\n",
      "variance:  90.70405192563676\n",
      "Range: [ 36.3 ,  89.0 ]\n",
      "Attribute:Adult Mortality\n",
      "Mean:  164.79644808743168\n",
      "variance:  15448.520902992863\n",
      "Range: [ 1.0 ,  723.0 ]\n",
      "Attribute:infant deaths\n",
      "Mean:  30.303948264125257\n",
      "variance:  13906.659712019115\n",
      "Range: [ 0 ,  1800 ]\n",
      "Attribute:Alcohol\n",
      "Mean:  4.602860787172012\n",
      "variance:  16.422048356843128\n",
      "Range: [ 0.01 ,  17.87 ]\n",
      "Attribute:percentage expenditure\n",
      "Mean:  738.2512954533831\n",
      "variance:  3951805.482721534\n",
      "Range: [ 0.0 ,  19479.91161 ]\n",
      "Attribute:Hepatitis B\n",
      "Mean:  80.94046121593291\n",
      "variance:  628.5056818341706\n",
      "Range: [ 1.0 ,  99.0 ]\n",
      "Attribute:Measles \n",
      "Mean:  2419.5922396187884\n",
      "variance:  131498338.34235719\n",
      "Range: [ 0 ,  212183 ]\n",
      "Attribute: BMI \n",
      "Mean:  38.321246556473824\n",
      "variance:  401.76327905183103\n",
      "Range: [ 1.0 ,  87.3 ]\n",
      "Attribute:under-five deaths \n",
      "Mean:  42.0357385976855\n",
      "variance:  25742.77400321663\n",
      "Range: [ 0 ,  2500 ]\n",
      "Attribute:Polio\n",
      "Mean:  82.55018842069202\n",
      "variance:  548.8733370104072\n",
      "Range: [ 3.0 ,  99.0 ]\n",
      "Attribute:Total expenditure\n",
      "Mean:  5.9381895280235995\n",
      "variance:  6.241601184279822\n",
      "Range: [ 0.37 ,  17.6 ]\n",
      "Attribute:Diphtheria \n",
      "Mean:  82.32408359027065\n",
      "variance:  562.4919180684044\n",
      "Range: [ 2.0 ,  99.0 ]\n",
      "Attribute: HIV/AIDS\n",
      "Mean:  1.7421034717494894\n",
      "variance:  25.783895744141844\n",
      "Range: [ 0.1 ,  50.6 ]\n",
      "Attribute:GDP\n",
      "Mean:  7483.158469138474\n",
      "variance:  203637733.03554255\n",
      "Range: [ 1.68135 ,  119172.7418 ]\n",
      "Attribute:Population\n",
      "Mean:  12753375.120052494\n",
      "variance:  3722475920353723.0\n",
      "Range: [ 34.0 ,  1293859294.0 ]\n",
      "Attribute: thinness  1-19 years\n",
      "Mean:  4.839703856749312\n",
      "variance:  19.538123370760182\n",
      "Range: [ 0.1 ,  27.7 ]\n",
      "Attribute: thinness 5-9 years\n",
      "Mean:  4.870316804407714\n",
      "variance:  20.330017674316203\n",
      "Range: [ 0.1 ,  28.6 ]\n",
      "Attribute:Income composition of resources\n",
      "Mean:  0.6275510645976182\n",
      "variance:  0.04448030957558102\n",
      "Range: [ 0.0 ,  0.948 ]\n",
      "Attribute:Schooling\n",
      "Mean:  11.992792792792793\n",
      "variance:  11.28234169281033\n",
      "Range: [ 0.0 ,  20.7 ]\n"
     ]
    }
   ],
   "source": [
    "for name in attributeNames:\n",
    "    if dataset[name].dtype == \"object\":\n",
    "        continue\n",
    "    print(\"Attribute:\" + name)\n",
    "    print(\"Mean: \", dataset[name].mean())\n",
    "    print(\"variance: \", dataset[name].var())\n",
    "    print(\"Range: [\", min(dataset[name]), \", \", max(dataset[name]),\"]\")\n",
    "\n",
    "    "
   ],
   "metadata": {
    "collapsed": false,
    "ExecuteTime": {
     "end_time": "2024-02-23T10:51:03.656060786Z",
     "start_time": "2024-02-23T10:51:03.611517038Z"
    }
   },
   "id": "d5003964c748ead2",
   "execution_count": 29
  },
  {
   "cell_type": "code",
   "outputs": [],
   "source": [],
   "metadata": {
    "collapsed": false
   },
   "id": "d46aedfcfa6ace81"
  }
 ],
 "metadata": {
  "kernelspec": {
   "display_name": "Python 3",
   "language": "python",
   "name": "python3"
  },
  "language_info": {
   "codemirror_mode": {
    "name": "ipython",
    "version": 2
   },
   "file_extension": ".py",
   "mimetype": "text/x-python",
   "name": "python",
   "nbconvert_exporter": "python",
   "pygments_lexer": "ipython2",
   "version": "2.7.6"
  }
 },
 "nbformat": 4,
 "nbformat_minor": 5
}
