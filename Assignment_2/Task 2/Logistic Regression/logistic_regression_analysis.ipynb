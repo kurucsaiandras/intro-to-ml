{
 "cells": [
  {
   "cell_type": "code",
   "execution_count": 18,
   "metadata": {},
   "outputs": [
    {
     "name": "stdout",
     "output_type": "stream",
     "text": [
      "(2864, 9)\n",
      "0.01675977653631285\n",
      "Region_North America\n",
      "0.0    2816\n",
      "1.0      48\n",
      "Name: count, dtype: int64\n",
      "(2864, 18)\n",
      "(2864, 27)\n"
     ]
    }
   ],
   "source": [
    "from sklearn import model_selection\n",
    "from sklearn.model_selection import KFold, StratifiedKFold, cross_validate\n",
    "from sklearn.linear_model import LogisticRegression\n",
    "from sklearn.model_selection import train_test_split\n",
    "from sklearn.preprocessing import OneHotEncoder, StandardScaler\n",
    "from sklearn.pipeline import Pipeline\n",
    "import pandas as pd\n",
    "import numpy as np\n",
    "\n",
    "##### Load data\n",
    "\n",
    "dataset = pd.read_csv(\"../../../Life-Expectancy-Data.csv\")\n",
    "\n",
    "classCategories = np.asarray(dataset[\"Economy_status_Developed\"])\n",
    "\n",
    "dataset = dataset.drop([\"Economy_status_Developed\", 'Economy_status_Developing', 'Country'], axis=1)\n",
    "\n",
    "\n",
    "\n",
    "\n",
    "\n",
    "##### Preprocessing\n",
    "\n",
    "\n",
    "with_region = True\n",
    "\n",
    "cols = [col for col in dataset.columns if col not in ['Economy_status_Developed']]\n",
    "\n",
    "\n",
    "if with_region:\n",
    "    region_unique = dataset['Region'].unique()\n",
    "    region_encoder = OneHotEncoder()\n",
    "    region_encoded = region_encoder.fit_transform(dataset[['Region']])\n",
    "    print(region_encoded.toarray().shape)\n",
    "    region_encoded_df = pd.DataFrame(region_encoded.toarray(), columns=region_encoder.get_feature_names_out())\n",
    "    print(sum(region_encoded_df[\"Region_North America\"])/len(region_encoded_df[\"Region_North America\"]))\n",
    "    print(region_encoded_df[\"Region_North America\"].value_counts())\n",
    "    print(dataset.shape)\n",
    "    raw_data = pd.concat([dataset, region_encoded_df], axis=1)\n",
    "    print(raw_data.shape)\n",
    "\n",
    "    raw_data = raw_data.drop(['Region'], axis=1)\n",
    "    cols.remove('Region')\n",
    "    cols = cols + list(region_encoded_df.columns)\n",
    "    y = classCategories\n",
    "    X = raw_data[cols].values\n",
    "else:\n",
    "    cols.remove('Region')\n",
    "    dataset = dataset.drop(['Region'], axis=1)\n",
    "    X = dataset[cols].values\n",
    "    y = classCategories\n",
    "\n",
    "\n",
    "\n"
   ]
  },
  {
   "cell_type": "code",
   "execution_count": 19,
   "metadata": {},
   "outputs": [
    {
     "name": "stdout",
     "output_type": "stream",
     "text": [
      "(2864, 26)\n",
      "Attribute:  Year  Coef:  -0.9969282991945269\n",
      "Attribute:  Infant_deaths  Coef:  0.05157569729562849\n",
      "Attribute:  Under_five_deaths  Coef:  0.7386164550937252\n",
      "Attribute:  Adult_mortality  Coef:  -2.113793564608071\n",
      "Attribute:  Alcohol_consumption  Coef:  2.769857619424301\n",
      "Attribute:  Hepatitis_B  Coef:  -1.2646668012257085\n",
      "Attribute:  Measles  Coef:  -0.8516585785925759\n",
      "Attribute:  BMI  Coef:  -3.601954397597585\n",
      "Attribute:  Polio  Coef:  -0.009865246348470115\n",
      "Attribute:  Diphtheria  Coef:  1.0024314698559147\n",
      "Attribute:  Incidents_HIV  Coef:  0.6328468700777843\n",
      "Attribute:  GDP_per_capita  Coef:  1.8753835672985366\n",
      "Attribute:  Population_mln  Coef:  0.8836355528556551\n",
      "Attribute:  Thinness_ten_nineteen_years  Coef:  -3.1161567032784343\n",
      "Attribute:  Thinness_five_nine_years  Coef:  -3.15076560969885\n",
      "Attribute:  Schooling  Coef:  3.102369545226979\n",
      "Attribute:  Life_expectancy  Coef:  4.371179701285574\n",
      "Attribute:  Region_Africa  Coef:  1.3783038636934397\n",
      "Attribute:  Region_Asia  Coef:  -3.4350743850917604\n",
      "Attribute:  Region_Central America and Caribbean  Coef:  -1.8231257952375148\n",
      "Attribute:  Region_European Union  Coef:  4.153838806012797\n",
      "Attribute:  Region_Middle East  Coef:  0.659071246872574\n",
      "Attribute:  Region_North America  Coef:  -0.01433472986859063\n",
      "Attribute:  Region_Oceania  Coef:  0.6110700370658453\n",
      "Attribute:  Region_Rest of Europe  Coef:  -0.9911769908384144\n",
      "Attribute:  Region_South America  Coef:  -1.5368708590264575\n"
     ]
    },
    {
     "data": {
      "text/plain": [
       "array([-0.9969283 ,  0.0515757 ,  0.73861646, -2.11379356,  2.76985762,\n",
       "       -1.2646668 , -0.85165858, -3.6019544 , -0.00986525,  1.00243147,\n",
       "        0.63284687,  1.87538357,  0.88363555, -3.1161567 , -3.15076561,\n",
       "        3.10236955,  4.3711797 ,  1.37830386, -3.43507439, -1.8231258 ,\n",
       "        4.15383881,  0.65907125, -0.01433473,  0.61107004, -0.99117699,\n",
       "       -1.53687086])"
      ]
     },
     "execution_count": 19,
     "metadata": {},
     "output_type": "execute_result"
    }
   ],
   "source": [
    "##### Run cross validation\n",
    "\n",
    "    \n",
    "print(X.shape)\n",
    "X_train, X_test, y_train, y_test = train_test_split(X, y, test_size=0.2, random_state=0)\n",
    "\n",
    "    \n",
    "trainStd = np.std(X_train, axis=0)\n",
    "trainMean = np.mean(X_train, axis=0)\n",
    "\n",
    "testNorm = (X_test - trainMean) / trainStd \n",
    "trainNorm = (X_train - trainMean) / trainStd \n",
    "\n",
    "model = LogisticRegression(penalty=\"l2\",solver=\"saga\",max_iter=5000, C=1/0.034551, random_state=0)\n",
    "\n",
    "model.fit(trainNorm, y_train)\n",
    "for i, coef in enumerate(model.coef_[0]):\n",
    "    print(\"Attribute: \", cols[i], \" Coef: \", coef)\n",
    "model.coef_[0]\n",
    "\n"
   ]
  },
  {
   "cell_type": "code",
   "execution_count": 14,
   "metadata": {},
   "outputs": [
    {
     "name": "stdout",
     "output_type": "stream",
     "text": [
      "1e-08  and  100000000.0\n",
      "2.6101572156825384e-08  and  38311868.49557285\n",
      "6.812920690579608e-08  and  14677992.676220706\n",
      "1.7782794100389227e-07  and  5623413.251903491\n",
      "4.641588833612782e-07  and  2154434.6900318824\n",
      "1.21152765862859e-06  and  825404.1852680173\n",
      "3.162277660168379e-06  and  316227.76601683797\n",
      "8.25404185268019e-06  and  121152.76586285875\n",
      "2.1544346900318867e-05  and  46415.888336127726\n",
      "5.623413251903491e-05  and  17782.79410038923\n",
      "0.00014677992676220705  and  6812.920690579608\n",
      "0.0003831186849557293  and  2610.157215682533\n",
      "0.001  and  1000.0\n",
      "0.0026101572156825388  and  383.1186849557285\n",
      "0.006812920690579622  and  146.77992676220674\n",
      "0.01778279410038923  and  56.2341325190349\n",
      "0.04641588833612782  and  21.54434690031882\n",
      "0.12115276586285902  and  8.254041852680173\n",
      "0.31622776601683794  and  3.162277660168379\n",
      "0.825404185268019  and  1.2115276586285877\n",
      "2.1544346900318865  and  0.4641588833612773\n",
      "5.623413251903491  and  0.17782794100389226\n",
      "14.677992676220736  and  0.06812920690579594\n",
      "38.31186849557293  and  0.02610157215682533\n",
      "100.0  and  0.01\n"
     ]
    }
   ],
   "source": [
    "lambdas = np.logspace(-3, 1, 40)\n",
    "for l in lambda_interval:\n",
    "    print(l, \" and \", 1/l)\n",
    "    "
   ]
  },
  {
   "cell_type": "code",
   "execution_count": null,
   "metadata": {},
   "outputs": [],
   "source": []
  },
  {
   "cell_type": "code",
   "execution_count": null,
   "metadata": {},
   "outputs": [],
   "source": []
  }
 ],
 "metadata": {
  "kernelspec": {
   "display_name": "dtu-machine-learning-PlLBiNlY",
   "language": "python",
   "name": "python3"
  },
  "language_info": {
   "codemirror_mode": {
    "name": "ipython",
    "version": 3
   },
   "file_extension": ".py",
   "mimetype": "text/x-python",
   "name": "python",
   "nbconvert_exporter": "python",
   "pygments_lexer": "ipython3",
   "version": "3.11.8"
  }
 },
 "nbformat": 4,
 "nbformat_minor": 2
}
