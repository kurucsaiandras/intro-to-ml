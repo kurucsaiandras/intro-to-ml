{
 "cells": [
  {
   "cell_type": "code",
   "execution_count": 65,
   "metadata": {},
   "outputs": [
    {
     "name": "stdout",
     "output_type": "stream",
     "text": [
      "(2864, 9)\n",
      "0.01675977653631285\n",
      "Region_North America\n",
      "0.0    2816\n",
      "1.0      48\n",
      "Name: count, dtype: int64\n",
      "(2864, 18)\n",
      "(2864, 27)\n",
      "[0 1 0 ... 0 1 1]\n"
     ]
    }
   ],
   "source": [
    "from sklearn import model_selection\n",
    "from sklearn.model_selection import KFold, StratifiedKFold, cross_validate\n",
    "from sklearn.linear_model import LogisticRegression\n",
    "from sklearn.model_selection import train_test_split\n",
    "from sklearn.preprocessing import OneHotEncoder, StandardScaler\n",
    "from sklearn.pipeline import Pipeline\n",
    "import pandas as pd\n",
    "import numpy as np\n",
    "\n",
    "##### Load data\n",
    "\n",
    "dataset = pd.read_csv(\"../../../Life-Expectancy-Data.csv\")\n",
    "\n",
    "classCategories = np.asarray(dataset[\"Economy_status_Developed\"])\n",
    "\n",
    "dataset = dataset.drop([\"Economy_status_Developed\", 'Economy_status_Developing', 'Country'], axis=1)\n",
    "\n",
    "\n",
    "\n",
    "\n",
    "\n",
    "##### Preprocessing\n",
    "\n",
    "\n",
    "with_region = True\n",
    "\n",
    "cols = [col for col in dataset.columns if col not in ['Economy_status_Developed']]\n",
    "\n",
    "\n",
    "if with_region:\n",
    "    region_unique = dataset['Region'].unique()\n",
    "    region_encoder = OneHotEncoder()\n",
    "    region_encoded = region_encoder.fit_transform(dataset[['Region']])\n",
    "    print(region_encoded.toarray().shape)\n",
    "    region_encoded_df = pd.DataFrame(region_encoded.toarray(), columns=region_encoder.get_feature_names_out())\n",
    "    print(sum(region_encoded_df[\"Region_North America\"])/len(region_encoded_df[\"Region_North America\"]))\n",
    "    print(region_encoded_df[\"Region_North America\"].value_counts())\n",
    "    print(dataset.shape)\n",
    "    raw_data = pd.concat([dataset, region_encoded_df], axis=1)\n",
    "    print(raw_data.shape)\n",
    "\n",
    "    raw_data = raw_data.drop(['Region'], axis=1)\n",
    "    cols.remove('Region')\n",
    "    print(y)\n",
    "    cols = cols + list(region_encoded_df.columns)\n",
    "    y = classCategories\n",
    "    X = raw_data[cols].values\n",
    "else:\n",
    "    cols.remove('Region')\n",
    "    dataset = dataset.drop(['Region'], axis=1)\n",
    "    X = dataset[cols].values\n",
    "    y = classCategories\n",
    "\n",
    "\n",
    "\n",
    "\n"
   ]
  },
  {
   "cell_type": "code",
   "execution_count": 66,
   "metadata": {},
   "outputs": [
    {
     "name": "stdout",
     "output_type": "stream",
     "text": [
      "(2864, 26)\n",
      "Attribute:  Year  Coef:  -0.18786494020884206\n",
      "Attribute:  Infant_deaths  Coef:  -0.2830917603407289\n",
      "Attribute:  Under_five_deaths  Coef:  -0.205089420427967\n",
      "Attribute:  Adult_mortality  Coef:  -0.36390233033686686\n",
      "Attribute:  Alcohol_consumption  Coef:  0.7234994467469184\n",
      "Attribute:  Hepatitis_B  Coef:  -0.08860281954767084\n",
      "Attribute:  Measles  Coef:  0.07847446410776428\n",
      "Attribute:  BMI  Coef:  -0.20765857243155744\n",
      "Attribute:  Polio  Coef:  0.0410365672263288\n",
      "Attribute:  Diphtheria  Coef:  0.11269713406273855\n",
      "Attribute:  Incidents_HIV  Coef:  -0.06961980500806873\n",
      "Attribute:  GDP_per_capita  Coef:  0.7322276603509008\n",
      "Attribute:  Population_mln  Coef:  0.008955917749980382\n",
      "Attribute:  Thinness_ten_nineteen_years  Coef:  -0.4330130177424786\n",
      "Attribute:  Thinness_five_nine_years  Coef:  -0.431514009008246\n",
      "Attribute:  Schooling  Coef:  0.6621001561611871\n",
      "Attribute:  Life_expectancy  Coef:  0.5276219298234013\n",
      "Attribute:  Region_Africa  Coef:  -0.09655808703016647\n",
      "Attribute:  Region_Asia  Coef:  -0.20677188896532678\n",
      "Attribute:  Region_Central America and Caribbean  Coef:  -0.4569396085864163\n",
      "Attribute:  Region_European Union  Coef:  1.0650016138194065\n",
      "Attribute:  Region_Middle East  Coef:  -0.061705581545257994\n",
      "Attribute:  Region_North America  Coef:  0.0924180037413981\n",
      "Attribute:  Region_Oceania  Coef:  0.07898801973507183\n",
      "Attribute:  Region_Rest of Europe  Coef:  -0.18365522524478498\n",
      "Attribute:  Region_South America  Coef:  -0.34891473045125404\n"
     ]
    },
    {
     "data": {
      "text/plain": [
       "array([-0.18786494, -0.28309176, -0.20508942, -0.36390233,  0.72349945,\n",
       "       -0.08860282,  0.07847446, -0.20765857,  0.04103657,  0.11269713,\n",
       "       -0.06961981,  0.73222766,  0.00895592, -0.43301302, -0.43151401,\n",
       "        0.66210016,  0.52762193, -0.09655809, -0.20677189, -0.45693961,\n",
       "        1.06500161, -0.06170558,  0.092418  ,  0.07898802, -0.18365523,\n",
       "       -0.34891473])"
      ]
     },
     "execution_count": 66,
     "metadata": {},
     "output_type": "execute_result"
    }
   ],
   "source": [
    "##### Run cross validation\n",
    "\n",
    "K = 10\n",
    "outer_kfold = (KFold(n_splits=K, shuffle=True, random_state=0) \n",
    "                if not use_stratified else StratifiedKFold(n_splits=K, shuffle=True, random_state=0))\n",
    "    \n",
    "print(X.shape)\n",
    "X_train, X_test, y_train, y_test = train_test_split(X, y, test_size=0.2, random_state=0)\n",
    "\n",
    "    \n",
    "trainStd = np.std(X_train, axis=0)\n",
    "trainMean = np.mean(X_train, axis=0)\n",
    "\n",
    "testNorm = (X_test - trainMean) / trainStd \n",
    "trainNorm = (X_train - trainMean) / trainStd \n",
    "\n",
    "model = LogisticRegression(penalty=\"l2\",solver=\"saga\",max_iter=5000, C=0.024390, random_state=0)\n",
    "\n",
    "model.fit(trainNorm, y_train)\n",
    "for i, coef in enumerate(model.coef_[0]):\n",
    "    print(\"Attribute: \", cols[i], \" Coef: \", coef)\n",
    "model.coef_[0]\n",
    "\n"
   ]
  },
  {
   "cell_type": "code",
   "execution_count": null,
   "metadata": {},
   "outputs": [],
   "source": []
  }
 ],
 "metadata": {
  "kernelspec": {
   "display_name": "dtu-machine-learning-PlLBiNlY",
   "language": "python",
   "name": "python3"
  },
  "language_info": {
   "codemirror_mode": {
    "name": "ipython",
    "version": 3
   },
   "file_extension": ".py",
   "mimetype": "text/x-python",
   "name": "python",
   "nbconvert_exporter": "python",
   "pygments_lexer": "ipython3",
   "version": "3.11.8"
  }
 },
 "nbformat": 4,
 "nbformat_minor": 2
}
