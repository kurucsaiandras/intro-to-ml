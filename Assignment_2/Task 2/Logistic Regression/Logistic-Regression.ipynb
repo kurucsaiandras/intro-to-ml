{
 "cells": [
  {
   "cell_type": "code",
   "execution_count": null,
   "id": "initial_id",
   "metadata": {
    "ExecuteTime": {
     "end_time": "2024-03-28T12:47:11.826905811Z",
     "start_time": "2024-03-28T12:47:10.726065336Z"
    },
    "collapsed": true
   },
   "outputs": [],
   "source": [
    "from sklearn import model_selection\n",
    "from sklearn.model_selection import KFold, StratifiedKFold\n",
    "from sklearn.linear_model import LogisticRegression\n",
    "from sklearn.model_selection import train_test_split\n",
    "from sklearn.preprocessing import OneHotEncoder\n",
    "import pandas as pd\n",
    "import numpy as np"
   ]
  },
  {
   "cell_type": "markdown",
   "id": "92ff92557b45ceec",
   "metadata": {
    "collapsed": false
   },
   "source": [
    "## Import data"
   ]
  },
  {
   "cell_type": "code",
   "execution_count": null,
   "id": "d1a7ffc842a88e5",
   "metadata": {
    "ExecuteTime": {
     "end_time": "2024-03-28T12:47:11.828035145Z",
     "start_time": "2024-03-28T12:47:11.806192816Z"
    },
    "collapsed": false
   },
   "outputs": [],
   "source": [
    "dataset = pd.read_csv(\"../../../Life-Expectancy-Data.csv\")\n",
    "\n",
    "classCategories = np.asarray(dataset[\"Economy_status_Developed\"])\n",
    "\n",
    "dataset = dataset.drop([\"Economy_status_Developed\", 'Economy_status_Developing', 'Country'], axis=1)\n",
    "\n",
    "\n",
    "\n",
    "\n",
    "\n",
    "\n"
   ]
  },
  {
   "cell_type": "markdown",
   "id": "6d3eb70ca42e564a",
   "metadata": {
    "collapsed": false
   },
   "source": [
    "## Data preperation"
   ]
  },
  {
   "cell_type": "code",
   "execution_count": null,
   "id": "5802dbcc7fb446b4",
   "metadata": {
    "ExecuteTime": {
     "end_time": "2024-03-28T12:47:11.828771064Z",
     "start_time": "2024-03-28T12:47:11.806717325Z"
    },
    "collapsed": false
   },
   "outputs": [],
   "source": [
    "# Assuming \"dataset\" is the DataFrame containing the \"region\" attribute\n",
    "with_region = True\n",
    "\n",
    "cols = [col for col in dataset.columns if col not in ['Economy_status_developing']]\n",
    "\n",
    "\n",
    "if with_region:\n",
    "    region_encoder = OneHotEncoder()\n",
    "    region_encoded = region_encoder.fit_transform(dataset[['Region']])\n",
    "\n",
    "    region_encoded_df = pd.DataFrame(region_encoded.toarray(), columns=region_encoder.get_feature_names_out())\n",
    "\n",
    "    raw_data = pd.concat([dataset, region_encoded_df], axis=1)\n",
    "\n",
    "    raw_data = raw_data.drop(['Region'], axis=1)\n",
    "    cols.remove('Region')\n",
    "\n",
    "    X = raw_data[cols].values\n",
    "    y = classCategories\n",
    "else:\n",
    "    dataset = dataset.drop(['Region'], axis=1)\n",
    "    X = dataset[cols].values\n",
    "    y = classCategories\n",
    "\n",
    "cols = range(0, len(dataset.columns))\n",
    "attributeNames = np.asarray(dataset.columns[cols])"
   ]
  },
  {
   "cell_type": "code",
   "execution_count": null,
   "id": "64100a3e",
   "metadata": {},
   "outputs": [],
   "source": []
  },
  {
   "cell_type": "markdown",
   "id": "6a9536d311a42a3f",
   "metadata": {
    "collapsed": false
   },
   "source": [
    "## Test run\n",
    "Comparing with and without Country and Region"
   ]
  },
  {
   "cell_type": "code",
   "execution_count": null,
   "id": "3a6f23cea056617f",
   "metadata": {
    "ExecuteTime": {
     "end_time": "2024-03-28T12:47:25.794129994Z",
     "start_time": "2024-03-28T12:47:12.334277994Z"
    },
    "collapsed": false
   },
   "outputs": [],
   "source": [
    "\n",
    "best_accuracy = 0\n",
    "best_models = []\n",
    "\n",
    "use_stratified = True\n",
    "\n",
    "K = 10\n",
    "outer_kfold = (KFold(n_splits=K, shuffle=True, random_state=0) \n",
    "                if not use_stratified else StratifiedKFold(n_splits=K, shuffle=True, random_state=0))\n",
    "#print(\"Baseline\", 1-sum(iy_test/len(iy_test)))\n",
    "\n",
    "# Outer cross validation loop\n",
    "for i,(train_idx, val_idx) in enumerate(outer_kfold.split(X,y, groups=y)):\n",
    "    \n",
    "\n",
    "    X_train = X[train_idx]\n",
    "    X_test = X[val_idx]\n",
    "    y_train = y[train_idx]\n",
    "    y_test = y[val_idx]\n",
    "    \n",
    "    testMean = np.mean(X_test, axis=0)\n",
    "    testStd = np.std(X_test, axis=0)\n",
    "    trainMean = np.mean(X_train, axis=0)\n",
    "    trainStd = np.std(X_train, axis=0)\n",
    "\n",
    "    testNorm = (X_test - trainMean) / trainStd \n",
    "    trainNorm = (X_train - trainMean) / trainStd \n",
    "\n",
    "    \n",
    "    innerK = 10\n",
    "    lambda_interval = np.logspace(-2, 2, 20)\n",
    "\n",
    "\n",
    "    inner_accuracy = np.zeros(len(lambda_interval))\n",
    "    inner_model = []\n",
    "    gen_e_lambda = np.zeros(len(lambda_interval))\n",
    "\n",
    "    for j, lamb in enumerate(lambda_interval):\n",
    "\n",
    "        inner_kfold = (KFold(n_splits=innerK, shuffle=True, random_state=0) \n",
    "                if not use_stratified \n",
    "                else  StratifiedKFold(n_splits=innerK, shuffle=True, random_state=0))\n",
    "\n",
    "        gen_e = 0\n",
    "\n",
    "        for i_train_idx, i_val_idx in inner_kfold.split(trainNorm,y_train,groups=y_train):\n",
    "            iX_train = trainNorm[i_train_idx]\n",
    "            iX_test = trainNorm[i_val_idx]\n",
    "            iy_train = y_train[i_train_idx]\n",
    "            iy_test = y_train[i_val_idx]\n",
    "\n",
    "            iX_train = iX_train - np.mean(iX_train, axis=0) / np.std(iX_train, axis=0)\n",
    "            iX_test = iX_test - np.mean(iX_train, axis=0) / np.std(iX_train, axis=0)\n",
    "\n",
    "            model = LogisticRegression(penalty=\"l2\",solver=\"lbfgs\",max_iter=5000, C=1/lamb, random_state=0)\n",
    "            model.fit(iX_train, iy_train)\n",
    "            y_pred = model.predict(iX_test)\n",
    "            gen_e += sum(y_pred==iy_test)/len(iy_test)\n",
    "\n",
    "            \n",
    "        gen_e_lambda[j] = gen_e/innerK\n",
    "        \n",
    "        #print(\"prediction: \", prediction, \"lambda: {:.10f}\".format(lamb))\n",
    "\n",
    "    \n",
    "    \n",
    "    model_index = np.argmax(gen_e_lambda)\n",
    "    best_lambda = lambda_interval[model_index]\n",
    "    best_model = LogisticRegression(penalty=\"l2\",solver=\"lbfgs\",max_iter=5000, C=1/best_lambda, random_state=0)\n",
    "    best_model.fit(trainNorm, y_train)\n",
    "    y_pred = best_model.predict(testNorm)\n",
    "    prediction = sum(y_pred==y_test)/len(y_test)\n",
    "    \n",
    "    print(\"Fold:\", i, \": generalized Error: \", gen_e_lambda[model_index], \": validation: \", prediction,  \": lambda: {:.10f}\".format(lambda_interval[model_index]))\n",
    "    best_models.append([best_model, gen_e_lambda[model_index] , lambda_interval[model_index]])\n",
    "\n",
    "\n",
    "        \n",
    "\n"
   ]
  },
  {
   "cell_type": "code",
   "execution_count": null,
   "id": "c2a361e741850a4a",
   "metadata": {
    "ExecuteTime": {
     "start_time": "2024-03-27T09:15:13.900610295Z"
    },
    "collapsed": false
   },
   "outputs": [],
   "source": [
    "for i in np.logspace(-2.5, 2, 20):\n",
    "    print(\"{:.10f}\".format(i))"
   ]
  },
  {
   "cell_type": "code",
   "execution_count": null,
   "id": "ccba962eb27d86dd",
   "metadata": {
    "ExecuteTime": {
     "start_time": "2024-03-27T09:15:13.900812087Z"
    },
    "collapsed": false
   },
   "outputs": [],
   "source": []
  }
 ],
 "metadata": {
  "kernelspec": {
   "display_name": "Python 3",
   "language": "python",
   "name": "python3"
  },
  "language_info": {
   "codemirror_mode": {
    "name": "ipython",
    "version": 3
   },
   "file_extension": ".py",
   "mimetype": "text/x-python",
   "name": "python",
   "nbconvert_exporter": "python",
   "pygments_lexer": "ipython3",
   "version": "3.11.8"
  }
 },
 "nbformat": 4,
 "nbformat_minor": 5
}
