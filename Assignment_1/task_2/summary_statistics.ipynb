{
 "cells": [
  {
   "cell_type": "code",
   "id": "initial_id",
   "metadata": {
    "collapsed": true,
    "ExecuteTime": {
     "end_time": "2024-04-07T10:36:03.661647Z",
     "start_time": "2024-04-07T10:36:02.601914Z"
    }
   },
   "source": [
    "import numpy as np\n",
    "import matplotlib.pyplot as plt\n",
    "import pandas as pd\n",
    "from utils.read_dataset import read\n"
   ],
   "outputs": [
    {
     "name": "stderr",
     "output_type": "stream",
     "text": [
      "/tmp/ipykernel_18120/1220005565.py:3: DeprecationWarning: \n",
      "Pyarrow will become a required dependency of pandas in the next major release of pandas (pandas 3.0),\n",
      "(to allow more performant data types, such as the Arrow string type, and better interoperability with other libraries)\n",
      "but was not found to be installed on your system.\n",
      "If this would cause problems for you,\n",
      "please provide us feedback at https://github.com/pandas-dev/pandas/issues/54466\n",
      "        \n",
      "  import pandas as pd\n"
     ]
    },
    {
     "ename": "ModuleNotFoundError",
     "evalue": "No module named 'utils.read_dataset'",
     "output_type": "error",
     "traceback": [
      "\u001B[0;31m---------------------------------------------------------------------------\u001B[0m",
      "\u001B[0;31mModuleNotFoundError\u001B[0m                       Traceback (most recent call last)",
      "Cell \u001B[0;32mIn[1], line 4\u001B[0m\n\u001B[1;32m      2\u001B[0m \u001B[38;5;28;01mimport\u001B[39;00m \u001B[38;5;21;01mmatplotlib\u001B[39;00m\u001B[38;5;21;01m.\u001B[39;00m\u001B[38;5;21;01mpyplot\u001B[39;00m \u001B[38;5;28;01mas\u001B[39;00m \u001B[38;5;21;01mplt\u001B[39;00m\n\u001B[1;32m      3\u001B[0m \u001B[38;5;28;01mimport\u001B[39;00m \u001B[38;5;21;01mpandas\u001B[39;00m \u001B[38;5;28;01mas\u001B[39;00m \u001B[38;5;21;01mpd\u001B[39;00m\n\u001B[0;32m----> 4\u001B[0m \u001B[38;5;28;01mfrom\u001B[39;00m \u001B[38;5;21;01mutils\u001B[39;00m\u001B[38;5;21;01m.\u001B[39;00m\u001B[38;5;21;01mread_dataset\u001B[39;00m \u001B[38;5;28;01mimport\u001B[39;00m read\n",
      "\u001B[0;31mModuleNotFoundError\u001B[0m: No module named 'utils.read_dataset'"
     ]
    }
   ],
   "execution_count": 1
  },
  {
   "cell_type": "code",
   "source": [
    "dataset = pd.read_csv(\"../Life-Expectancy-Data.csv\")\n",
    "\n",
    "raw_data = dataset.values\n",
    "\n",
    "cols = range(0, 21)\n",
    "X = raw_data[:, cols]\n",
    "attributeNames = np.asarray(dataset.columns[cols])\n",
    "dataset"
   ],
   "metadata": {
    "collapsed": false,
    "ExecuteTime": {
     "end_time": "2024-04-07T10:36:03.663091Z",
     "start_time": "2024-04-07T10:36:03.662880Z"
    }
   },
   "id": "2ffe39f814d253ba",
   "outputs": [],
   "execution_count": null
  },
  {
   "cell_type": "code",
   "source": [
    "for name in attributeNames:\n",
    "    if dataset[name].dtype == \"object\":\n",
    "        continue\n",
    "    npData = np.array(dataset[name])\n",
    "    z = ((npData-npData.mean())/npData.std())\n",
    "    print(\"Attribute:\" + name)\n",
    "    print(\"Z-score\", float(z))\n",
    "    #print(\"Mean: \", dataset[name].mean())\n",
    "    #print(\"Mode\",dataset[name].mode().values[0])\n",
    "    #print(\"variance: \", dataset[name].var())\n",
    "    print(\"Standard Deviation\",dataset[name].std())\n",
    "    #print(\"Range: [\", min(dataset[name]), \", \", max(dataset[name]),\"]\")\n",
    "    "
   ],
   "metadata": {
    "collapsed": false,
    "ExecuteTime": {
     "start_time": "2024-04-07T10:36:03.663772Z"
    }
   },
   "id": "d5003964c748ead2",
   "outputs": [],
   "execution_count": null
  },
  {
   "cell_type": "code",
   "source": [],
   "metadata": {
    "collapsed": false,
    "ExecuteTime": {
     "end_time": "2024-04-07T10:36:03.664517Z",
     "start_time": "2024-04-07T10:36:03.664389Z"
    }
   },
   "id": "d46aedfcfa6ace81",
   "outputs": [],
   "execution_count": null
  }
 ],
 "metadata": {
  "kernelspec": {
   "display_name": "Python 3",
   "language": "python",
   "name": "python3"
  },
  "language_info": {
   "codemirror_mode": {
    "name": "ipython",
    "version": 2
   },
   "file_extension": ".py",
   "mimetype": "text/x-python",
   "name": "python",
   "nbconvert_exporter": "python",
   "pygments_lexer": "ipython2",
   "version": "2.7.6"
  }
 },
 "nbformat": 4,
 "nbformat_minor": 5
}
